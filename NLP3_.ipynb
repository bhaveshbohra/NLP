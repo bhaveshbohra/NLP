{
  "nbformat": 4,
  "nbformat_minor": 0,
  "metadata": {
    "colab": {
      "provenance": []
    },
    "kernelspec": {
      "name": "python3",
      "display_name": "Python 3"
    },
    "language_info": {
      "name": "python"
    }
  },
  "cells": [
    {
      "cell_type": "markdown",
      "source": [
        "Implement multi-layer perceptron from scratch using the below link:\n",
        "https://www.kaggle.com/code/vitorgamalemos/multilayer-perceptron-from-scratch/notebook\n",
        "\n",
        "\n",
        "This is for learning purposes. Understand the code and submit the notebook file with proper documentation. Evaluation will be done based on the documentation, code and proper output. Modify the code and use it on the attached dataset. Submit two separate notebook files - one for the iris dataset and one for the diabetes dataset.\n",
        "\n",
        "\n",
        "Note: The code from Kaggle will throw some errors. To rectify the error declare an empty dictionary named 'params' in the class 'Multi-layer Perceptron'."
      ],
      "metadata": {
        "id": "2FpIedcJu3Oa"
      }
    },
    {
      "cell_type": "markdown",
      "source": [
        "\n",
        "Dataset of Diabetes .csv"
      ],
      "metadata": {
        "id": "_M5P0vQGu-lU"
      }
    },
    {
      "cell_type": "code",
      "execution_count": null,
      "metadata": {
        "id": "ZWuYuD7MuzGV"
      },
      "outputs": [],
      "source": []
    }
  ]
}