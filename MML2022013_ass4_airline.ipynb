{
  "nbformat": 4,
  "nbformat_minor": 0,
  "metadata": {
    "colab": {
      "provenance": []
    },
    "kernelspec": {
      "name": "python3",
      "display_name": "Python 3"
    },
    "language_info": {
      "name": "python"
    }
  },
  "cells": [
    {
      "cell_type": "markdown",
      "source": [
        "#Name Bhavesh Kumar Bohara\n",
        "#MML2022013\n",
        "\n",
        "Implement RNN using the below link:\n",
        "https://www.kaggle.com/code/pushpakgote/natural-language-processing-with-rnn\n",
        "\n",
        "This assignment is intended to help you learn the implementation of RNN.\n",
        "Your task is to review and understand the code (only Sentiment Analysis) for predicting sentiment in the IMDB dataset. Create a new notebook file demonstrating your understanding of the code with the IMDB dataset.\n",
        "After completing the first task, create another notebook and build an RNN model for the Airline Sentiment Analysis data (the attached dataset) to predict the sentiment of the tweet about the airline. Split the dataset into training and testing datasets to evaluate the model's accuracy.\n",
        "Additionally, you need to write a function that inputs a text file. Each line of text file contains a tweet and outputs the corresponding sentiment predicted by the model alongside the tweet. Please note that the model should classify tweets into Positive, Negative, and Neutral categories.\n",
        "\n",
        "Deadline: 11:59 PM, 12th March 2023. Submissions after the deadline will not be evaluated.\n",
        "\n",
        "\n",
        "Note:\n",
        "Please include code with only the necessary documentation to help others understand your thought process. We encourage you to use your own style and approach when writing the code. We will evaluate your submission based on the clarity of your documentation, the quality of your code, and the accuracy of your output.\n",
        "Submit only two notebook(.ipynb) files. Don't upload a zip file or anything else."
      ],
      "metadata": {
        "id": "KUBc0V0H8jDq"
      }
    },
    {
      "cell_type": "code",
      "execution_count": null,
      "metadata": {
        "colab": {
          "base_uri": "https://localhost:8080/"
        },
        "id": "CqoBPMgOwhhl",
        "outputId": "066d33e2-85b8-4d3e-9e97-c0b8f966bf9e"
      },
      "outputs": [
        {
          "output_type": "stream",
          "name": "stdout",
          "text": [
            "Drive already mounted at /content/drive; to attempt to forcibly remount, call drive.mount(\"/content/drive\", force_remount=True).\n"
          ]
        }
      ],
      "source": [
        "from google.colab import drive\n",
        "drive.mount('/content/drive')"
      ]
    },
    {
      "cell_type": "code",
      "source": [
        "import pandas as pd\n",
        "import numpy as np\n",
        "import tensorflow as tf\n",
        "from tensorflow.keras.preprocessing.text import Tokenizer\n",
        "from tensorflow.keras.preprocessing.sequence import pad_sequences\n",
        "from sklearn.model_selection import train_test_split\n",
        "\n",
        "# Load the dataset\n",
        "df = pd.read_csv('/content/drive/MyDrive/Airline_Sentiment_Analysis - Airline_Sentiment_Analysis.csv')\n",
        "df.head()"
      ],
      "metadata": {
        "colab": {
          "base_uri": "https://localhost:8080/",
          "height": 496
        },
        "id": "AqdXGMZ4ws1W",
        "outputId": "a0d003c0-19cb-49fd-e7ef-8dd307119989"
      },
      "execution_count": null,
      "outputs": [
        {
          "output_type": "execute_result",
          "data": {
            "text/plain": [
              "       tweet_id airline_sentiment  airline_sentiment_confidence  \\\n",
              "0  5.703061e+17           neutral                        1.0000   \n",
              "1  5.703011e+17          positive                        0.3486   \n",
              "2  5.703011e+17           neutral                        0.6837   \n",
              "3  5.703010e+17          negative                        1.0000   \n",
              "4  5.703008e+17          negative                        1.0000   \n",
              "\n",
              "  negativereason  negativereason_confidence         airline  \\\n",
              "0            NaN                        NaN  Virgin America   \n",
              "1            NaN                     0.0000  Virgin America   \n",
              "2            NaN                        NaN  Virgin America   \n",
              "3     Bad Flight                     0.7033  Virgin America   \n",
              "4     Can't Tell                     1.0000  Virgin America   \n",
              "\n",
              "  airline_sentiment_gold        name negativereason_gold  retweet_count  \\\n",
              "0                    NaN     cairdin                 NaN              0   \n",
              "1                    NaN    jnardino                 NaN              0   \n",
              "2                    NaN  yvonnalynn                 NaN              0   \n",
              "3                    NaN    jnardino                 NaN              0   \n",
              "4                    NaN    jnardino                 NaN              0   \n",
              "\n",
              "                                                text tweet_coord  \\\n",
              "0                @VirginAmerica What @dhepburn said.         NaN   \n",
              "1  @VirginAmerica plus you've added commercials t...         NaN   \n",
              "2  @VirginAmerica I didn't today... Must mean I n...         NaN   \n",
              "3  @VirginAmerica it's really aggressive to blast...         NaN   \n",
              "4  @VirginAmerica and it's a really big bad thing...         NaN   \n",
              "\n",
              "               tweet_created tweet_location               user_timezone  \n",
              "0  2015-02-24 11:35:52 -0800            NaN  Eastern Time (US & Canada)  \n",
              "1  2015-02-24 11:15:59 -0800            NaN  Pacific Time (US & Canada)  \n",
              "2  2015-02-24 11:15:48 -0800      Lets Play  Central Time (US & Canada)  \n",
              "3  2015-02-24 11:15:36 -0800            NaN  Pacific Time (US & Canada)  \n",
              "4  2015-02-24 11:14:45 -0800            NaN  Pacific Time (US & Canada)  "
            ],
            "text/html": [
              "\n",
              "  <div id=\"df-7d35012f-efd4-4254-baa0-b5b288f8e2a5\">\n",
              "    <div class=\"colab-df-container\">\n",
              "      <div>\n",
              "<style scoped>\n",
              "    .dataframe tbody tr th:only-of-type {\n",
              "        vertical-align: middle;\n",
              "    }\n",
              "\n",
              "    .dataframe tbody tr th {\n",
              "        vertical-align: top;\n",
              "    }\n",
              "\n",
              "    .dataframe thead th {\n",
              "        text-align: right;\n",
              "    }\n",
              "</style>\n",
              "<table border=\"1\" class=\"dataframe\">\n",
              "  <thead>\n",
              "    <tr style=\"text-align: right;\">\n",
              "      <th></th>\n",
              "      <th>tweet_id</th>\n",
              "      <th>airline_sentiment</th>\n",
              "      <th>airline_sentiment_confidence</th>\n",
              "      <th>negativereason</th>\n",
              "      <th>negativereason_confidence</th>\n",
              "      <th>airline</th>\n",
              "      <th>airline_sentiment_gold</th>\n",
              "      <th>name</th>\n",
              "      <th>negativereason_gold</th>\n",
              "      <th>retweet_count</th>\n",
              "      <th>text</th>\n",
              "      <th>tweet_coord</th>\n",
              "      <th>tweet_created</th>\n",
              "      <th>tweet_location</th>\n",
              "      <th>user_timezone</th>\n",
              "    </tr>\n",
              "  </thead>\n",
              "  <tbody>\n",
              "    <tr>\n",
              "      <th>0</th>\n",
              "      <td>5.703061e+17</td>\n",
              "      <td>neutral</td>\n",
              "      <td>1.0000</td>\n",
              "      <td>NaN</td>\n",
              "      <td>NaN</td>\n",
              "      <td>Virgin America</td>\n",
              "      <td>NaN</td>\n",
              "      <td>cairdin</td>\n",
              "      <td>NaN</td>\n",
              "      <td>0</td>\n",
              "      <td>@VirginAmerica What @dhepburn said.</td>\n",
              "      <td>NaN</td>\n",
              "      <td>2015-02-24 11:35:52 -0800</td>\n",
              "      <td>NaN</td>\n",
              "      <td>Eastern Time (US &amp; Canada)</td>\n",
              "    </tr>\n",
              "    <tr>\n",
              "      <th>1</th>\n",
              "      <td>5.703011e+17</td>\n",
              "      <td>positive</td>\n",
              "      <td>0.3486</td>\n",
              "      <td>NaN</td>\n",
              "      <td>0.0000</td>\n",
              "      <td>Virgin America</td>\n",
              "      <td>NaN</td>\n",
              "      <td>jnardino</td>\n",
              "      <td>NaN</td>\n",
              "      <td>0</td>\n",
              "      <td>@VirginAmerica plus you've added commercials t...</td>\n",
              "      <td>NaN</td>\n",
              "      <td>2015-02-24 11:15:59 -0800</td>\n",
              "      <td>NaN</td>\n",
              "      <td>Pacific Time (US &amp; Canada)</td>\n",
              "    </tr>\n",
              "    <tr>\n",
              "      <th>2</th>\n",
              "      <td>5.703011e+17</td>\n",
              "      <td>neutral</td>\n",
              "      <td>0.6837</td>\n",
              "      <td>NaN</td>\n",
              "      <td>NaN</td>\n",
              "      <td>Virgin America</td>\n",
              "      <td>NaN</td>\n",
              "      <td>yvonnalynn</td>\n",
              "      <td>NaN</td>\n",
              "      <td>0</td>\n",
              "      <td>@VirginAmerica I didn't today... Must mean I n...</td>\n",
              "      <td>NaN</td>\n",
              "      <td>2015-02-24 11:15:48 -0800</td>\n",
              "      <td>Lets Play</td>\n",
              "      <td>Central Time (US &amp; Canada)</td>\n",
              "    </tr>\n",
              "    <tr>\n",
              "      <th>3</th>\n",
              "      <td>5.703010e+17</td>\n",
              "      <td>negative</td>\n",
              "      <td>1.0000</td>\n",
              "      <td>Bad Flight</td>\n",
              "      <td>0.7033</td>\n",
              "      <td>Virgin America</td>\n",
              "      <td>NaN</td>\n",
              "      <td>jnardino</td>\n",
              "      <td>NaN</td>\n",
              "      <td>0</td>\n",
              "      <td>@VirginAmerica it's really aggressive to blast...</td>\n",
              "      <td>NaN</td>\n",
              "      <td>2015-02-24 11:15:36 -0800</td>\n",
              "      <td>NaN</td>\n",
              "      <td>Pacific Time (US &amp; Canada)</td>\n",
              "    </tr>\n",
              "    <tr>\n",
              "      <th>4</th>\n",
              "      <td>5.703008e+17</td>\n",
              "      <td>negative</td>\n",
              "      <td>1.0000</td>\n",
              "      <td>Can't Tell</td>\n",
              "      <td>1.0000</td>\n",
              "      <td>Virgin America</td>\n",
              "      <td>NaN</td>\n",
              "      <td>jnardino</td>\n",
              "      <td>NaN</td>\n",
              "      <td>0</td>\n",
              "      <td>@VirginAmerica and it's a really big bad thing...</td>\n",
              "      <td>NaN</td>\n",
              "      <td>2015-02-24 11:14:45 -0800</td>\n",
              "      <td>NaN</td>\n",
              "      <td>Pacific Time (US &amp; Canada)</td>\n",
              "    </tr>\n",
              "  </tbody>\n",
              "</table>\n",
              "</div>\n",
              "      <button class=\"colab-df-convert\" onclick=\"convertToInteractive('df-7d35012f-efd4-4254-baa0-b5b288f8e2a5')\"\n",
              "              title=\"Convert this dataframe to an interactive table.\"\n",
              "              style=\"display:none;\">\n",
              "        \n",
              "  <svg xmlns=\"http://www.w3.org/2000/svg\" height=\"24px\"viewBox=\"0 0 24 24\"\n",
              "       width=\"24px\">\n",
              "    <path d=\"M0 0h24v24H0V0z\" fill=\"none\"/>\n",
              "    <path d=\"M18.56 5.44l.94 2.06.94-2.06 2.06-.94-2.06-.94-.94-2.06-.94 2.06-2.06.94zm-11 1L8.5 8.5l.94-2.06 2.06-.94-2.06-.94L8.5 2.5l-.94 2.06-2.06.94zm10 10l.94 2.06.94-2.06 2.06-.94-2.06-.94-.94-2.06-.94 2.06-2.06.94z\"/><path d=\"M17.41 7.96l-1.37-1.37c-.4-.4-.92-.59-1.43-.59-.52 0-1.04.2-1.43.59L10.3 9.45l-7.72 7.72c-.78.78-.78 2.05 0 2.83L4 21.41c.39.39.9.59 1.41.59.51 0 1.02-.2 1.41-.59l7.78-7.78 2.81-2.81c.8-.78.8-2.07 0-2.86zM5.41 20L4 18.59l7.72-7.72 1.47 1.35L5.41 20z\"/>\n",
              "  </svg>\n",
              "      </button>\n",
              "      \n",
              "  <style>\n",
              "    .colab-df-container {\n",
              "      display:flex;\n",
              "      flex-wrap:wrap;\n",
              "      gap: 12px;\n",
              "    }\n",
              "\n",
              "    .colab-df-convert {\n",
              "      background-color: #E8F0FE;\n",
              "      border: none;\n",
              "      border-radius: 50%;\n",
              "      cursor: pointer;\n",
              "      display: none;\n",
              "      fill: #1967D2;\n",
              "      height: 32px;\n",
              "      padding: 0 0 0 0;\n",
              "      width: 32px;\n",
              "    }\n",
              "\n",
              "    .colab-df-convert:hover {\n",
              "      background-color: #E2EBFA;\n",
              "      box-shadow: 0px 1px 2px rgba(60, 64, 67, 0.3), 0px 1px 3px 1px rgba(60, 64, 67, 0.15);\n",
              "      fill: #174EA6;\n",
              "    }\n",
              "\n",
              "    [theme=dark] .colab-df-convert {\n",
              "      background-color: #3B4455;\n",
              "      fill: #D2E3FC;\n",
              "    }\n",
              "\n",
              "    [theme=dark] .colab-df-convert:hover {\n",
              "      background-color: #434B5C;\n",
              "      box-shadow: 0px 1px 3px 1px rgba(0, 0, 0, 0.15);\n",
              "      filter: drop-shadow(0px 1px 2px rgba(0, 0, 0, 0.3));\n",
              "      fill: #FFFFFF;\n",
              "    }\n",
              "  </style>\n",
              "\n",
              "      <script>\n",
              "        const buttonEl =\n",
              "          document.querySelector('#df-7d35012f-efd4-4254-baa0-b5b288f8e2a5 button.colab-df-convert');\n",
              "        buttonEl.style.display =\n",
              "          google.colab.kernel.accessAllowed ? 'block' : 'none';\n",
              "\n",
              "        async function convertToInteractive(key) {\n",
              "          const element = document.querySelector('#df-7d35012f-efd4-4254-baa0-b5b288f8e2a5');\n",
              "          const dataTable =\n",
              "            await google.colab.kernel.invokeFunction('convertToInteractive',\n",
              "                                                     [key], {});\n",
              "          if (!dataTable) return;\n",
              "\n",
              "          const docLinkHtml = 'Like what you see? Visit the ' +\n",
              "            '<a target=\"_blank\" href=https://colab.research.google.com/notebooks/data_table.ipynb>data table notebook</a>'\n",
              "            + ' to learn more about interactive tables.';\n",
              "          element.innerHTML = '';\n",
              "          dataTable['output_type'] = 'display_data';\n",
              "          await google.colab.output.renderOutput(dataTable, element);\n",
              "          const docLink = document.createElement('div');\n",
              "          docLink.innerHTML = docLinkHtml;\n",
              "          element.appendChild(docLink);\n",
              "        }\n",
              "      </script>\n",
              "    </div>\n",
              "  </div>\n",
              "  "
            ]
          },
          "metadata": {},
          "execution_count": 23
        }
      ]
    },
    {
      "cell_type": "markdown",
      "source": [
        "Preprocess the dataset"
      ],
      "metadata": {
        "id": "70qMBahg3_VB"
      }
    },
    {
      "cell_type": "code",
      "source": [
        "# Remove the unnecessary columns\n",
        "df = df[['text', 'airline_sentiment']]\n",
        "\n",
        "# Convert sentiment to numeric values\n",
        "df['airline_sentiment'] = df['airline_sentiment'].replace({'positive': 2, 'neutral': 1, 'negative': 0})\n",
        "\n",
        "# Tokenize the text\n",
        "tokenizer = Tokenizer(num_words=10000, oov_token='<OOV>')\n",
        "tokenizer.fit_on_texts(df['text'])\n",
        "sequences = tokenizer.texts_to_sequences(df['text'])\n",
        "\n",
        "# Pad the sequences\n",
        "padded_sequences = pad_sequences(sequences, maxlen=100, truncating='post')\n",
        "\n",
        "# Split the dataset into training and testing datasets\n",
        "X_train, X_test, y_train, y_test = train_test_split(padded_sequences, df['airline_sentiment'], test_size=0.2, random_state=42)\n"
      ],
      "metadata": {
        "id": "9N5ToJsa3-MW"
      },
      "execution_count": null,
      "outputs": []
    },
    {
      "cell_type": "markdown",
      "source": [
        "Build and train the RNN model"
      ],
      "metadata": {
        "id": "zq2JRfB44TFo"
      }
    },
    {
      "cell_type": "code",
      "source": [
        "# Build the RNN model\n",
        "model = tf.keras.Sequential([\n",
        "    tf.keras.layers.Embedding(10000, 16, input_length=100),\n",
        "    tf.keras.layers.LSTM(32),\n",
        "    tf.keras.layers.Dense(3, activation='softmax')\n",
        "])\n",
        "\n",
        "# Compile the model\n",
        "model.compile(loss='sparse_categorical_crossentropy', optimizer='adam', metrics=['accuracy'])\n",
        "\n",
        "# Train the model\n",
        "history = model.fit(X_train, y_train, epochs=10, batch_size=128, validation_data=(X_test, y_test))\n"
      ],
      "metadata": {
        "colab": {
          "base_uri": "https://localhost:8080/"
        },
        "id": "FyvjnQMC4VN-",
        "outputId": "cde90135-c060-4e8f-883a-eb0f1e5cead6"
      },
      "execution_count": null,
      "outputs": [
        {
          "output_type": "stream",
          "name": "stdout",
          "text": [
            "Epoch 1/10\n",
            "92/92 [==============================] - 12s 90ms/step - loss: 0.8731 - accuracy: 0.6333 - val_loss: 0.6954 - val_accuracy: 0.7039\n",
            "Epoch 2/10\n",
            "92/92 [==============================] - 11s 121ms/step - loss: 0.6248 - accuracy: 0.7243 - val_loss: 0.5993 - val_accuracy: 0.7380\n",
            "Epoch 3/10\n",
            "92/92 [==============================] - 10s 113ms/step - loss: 0.5163 - accuracy: 0.7804 - val_loss: 0.5907 - val_accuracy: 0.7565\n",
            "Epoch 4/10\n",
            "92/92 [==============================] - 8s 87ms/step - loss: 0.4392 - accuracy: 0.8222 - val_loss: 0.5893 - val_accuracy: 0.7712\n",
            "Epoch 5/10\n",
            "92/92 [==============================] - 10s 114ms/step - loss: 0.3671 - accuracy: 0.8584 - val_loss: 0.5976 - val_accuracy: 0.7756\n",
            "Epoch 6/10\n",
            "92/92 [==============================] - 10s 106ms/step - loss: 0.3127 - accuracy: 0.8862 - val_loss: 0.6377 - val_accuracy: 0.7773\n",
            "Epoch 7/10\n",
            "92/92 [==============================] - 8s 88ms/step - loss: 0.2677 - accuracy: 0.9052 - val_loss: 0.6634 - val_accuracy: 0.7811\n",
            "Epoch 8/10\n",
            "92/92 [==============================] - 13s 140ms/step - loss: 0.2340 - accuracy: 0.9162 - val_loss: 0.6825 - val_accuracy: 0.7732\n",
            "Epoch 9/10\n",
            "92/92 [==============================] - 8s 88ms/step - loss: 0.2041 - accuracy: 0.9297 - val_loss: 0.7023 - val_accuracy: 0.7732\n",
            "Epoch 10/10\n",
            "92/92 [==============================] - 10s 108ms/step - loss: 0.1779 - accuracy: 0.9416 - val_loss: 0.7849 - val_accuracy: 0.7732\n"
          ]
        }
      ]
    },
    {
      "cell_type": "markdown",
      "source": [
        "Evaluate the model's accuracy"
      ],
      "metadata": {
        "id": "reqMZ6_44aJr"
      }
    },
    {
      "cell_type": "code",
      "source": [
        "# Evaluate the model's accuracy\n",
        "_, accuracy = model.evaluate(X_test, y_test)\n",
        "print('Accuracy: %.2f%%' % (accuracy*100))\n"
      ],
      "metadata": {
        "colab": {
          "base_uri": "https://localhost:8080/"
        },
        "id": "2dhRlQtE4ebH",
        "outputId": "ab2e293b-e658-4bf2-e0f2-4d65c3a816f1"
      },
      "execution_count": null,
      "outputs": [
        {
          "output_type": "stream",
          "name": "stdout",
          "text": [
            "92/92 [==============================] - 2s 17ms/step - loss: 0.7849 - accuracy: 0.7732\n",
            "Accuracy: 77.32%\n"
          ]
        }
      ]
    },
    {
      "cell_type": "markdown",
      "source": [
        "Write a function to predict the sentiment of tweets in a text file"
      ],
      "metadata": {
        "id": "MdgkVmkk4iZm"
      }
    },
    {
      "cell_type": "code",
      "source": [
        "def predict_sentiments(filename):\n",
        "    with open(filename, 'r') as f:\n",
        "        tweets = f.readlines()\n",
        "\n",
        "    # Tokenize the tweets\n",
        "    sequences = tokenizer.texts_to_sequences(tweets)\n",
        "    padded_sequences = pad_sequences(sequences, maxlen=100, truncating='post')\n",
        "\n",
        "    # Predict the sentiment\n",
        "    predictions = model.predict(padded_sequences)\n",
        "    predicted_sentiments = [np.argmax(prediction) for prediction in predictions]\n",
        "\n",
        "    # Map numeric values to sentiment labels\n",
        "    label_map = {0: 'Negative', 1: 'Neutral', 2: 'Positive'}\n",
        "    predicted_sentiments = [label_map[sentiment] for sentiment in predicted_sentiments]\n",
        "\n",
        "    # Print the tweets and predicted sentiments\n",
        "    for tweet, sentiment in zip(tweets, predicted_sentiments):\n",
        "        print(tweet.strip(), '-', sentiment)\n"
      ],
      "metadata": {
        "id": "xNF_wHTD4pT-"
      },
      "execution_count": null,
      "outputs": []
    },
    {
      "cell_type": "code",
      "source": [
        "\n",
        "\n",
        "# Define the predict_sentiments function\n",
        "def predict_sentiments(filename):\n",
        "    with open(filename, 'r') as f:\n",
        "        tweets = f.readlines()\n",
        "\n",
        "    # Tokenize the tweets\n",
        "    sequences = tokenizer.texts_to_sequences(tweets)\n",
        "    padded_sequences = pad_sequences(sequences, maxlen=100, truncating='post')\n",
        "\n",
        "    # Predict the sentiment\n",
        "    predictions = model.predict(padded_sequences)\n",
        "    predicted_sentiments = [np.argmax(prediction) for prediction in predictions]\n",
        "\n",
        "    # Map numeric values to sentiment labels\n",
        "    label_map = {0: 'Negative', 1: 'Neutral', 2: 'Positive'}\n",
        "    predicted_sentiments = [label_map[sentiment] for sentiment in predicted_sentiments]\n",
        "\n",
        "    # Print the tweets and predicted sentiments\n",
        "    for tweet, sentiment in zip(tweets, predicted_sentiments):\n",
        "        print(tweet.strip(), '-', sentiment)\n"
      ],
      "metadata": {
        "id": "ofnyLn_D_s-K"
      },
      "execution_count": null,
      "outputs": []
    }
  ]
}