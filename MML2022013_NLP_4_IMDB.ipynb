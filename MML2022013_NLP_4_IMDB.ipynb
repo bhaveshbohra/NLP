{
  "cells": [
    {
      "cell_type": "markdown",
      "metadata": {
        "id": "9rxpUG2-vge2"
      },
      "source": [
        "#Name Bhavesh Kumar Bohara\n",
        "#MML2022013"
      ]
    },
    {
      "cell_type": "markdown",
      "metadata": {
        "id": "-VEjsnDjtJYh"
      },
      "source": [
        "###Sentiment Analysis"
      ]
    },
    {
      "cell_type": "markdown",
      "metadata": {
        "id": "WphMOJOLtMtc"
      },
      "source": [
        "Definition: The process of computationally identifying and categorizing opinions expressed in a piece of text, especially in order to determine whether the writer's attitude towards a particular topic, product, etc. is positive, negative, or neutral."
      ]
    },
    {
      "cell_type": "markdown",
      "metadata": {
        "id": "1faA_0Awtc4U"
      },
      "source": [
        "###IMDB dataset : Moview review dataset"
      ]
    },
    {
      "cell_type": "markdown",
      "metadata": {
        "id": "f9DhpMXwtkHj"
      },
      "source": [
        "This dataset contains 25,000 reviews from IMDB where each one is already preprocessed and has a label as either positive or negative. Each review is encoded by integers that represents how common a word is in the entire dataset.  For example, a word encoded by the integer 3 means that it is the 3rd most common word in the dataset."
      ]
    },
    {
      "cell_type": "markdown",
      "metadata": {
        "id": "bP8pdR4oukp8"
      },
      "source": [
        "###Implementation for moview review\n"
      ]
    },
    {
      "cell_type": "code",
      "execution_count": null,
      "metadata": {
        "colab": {
          "background_save": true
        },
        "id": "f9c5Q2L0uwqh"
      },
      "outputs": [],
      "source": [
        "from keras.datasets import imdb\n",
        "from keras.preprocessing import sequence\n",
        "import keras\n",
        "import tensorflow as tf\n",
        "import os\n",
        "import numpy as np\n",
        "from tensorflow.keras.preprocessing.sequence import pad_sequences\n",
        "VOCAB_SIZE = 88584\n",
        "\n",
        "MAXLEN = 250\n",
        "BATCH_SIZE = 64\n",
        "\n",
        "(train_data, train_labels), (test_data, test_labels) = imdb.load_data(num_words = VOCAB_SIZE)"
      ]
    },
    {
      "cell_type": "code",
      "execution_count": null,
      "metadata": {
        "colab": {
          "background_save": true
        },
        "id": "qL9isXELvxUB",
        "outputId": "f1c4820c-4f2c-463c-f0f2-867e3048597e"
      },
      "outputs": [
        {
          "data": {
            "text/plain": [
              "189"
            ]
          },
          "execution_count": 40,
          "metadata": {},
          "output_type": "execute_result"
        }
      ],
      "source": [
        "#size of one sample of train data\n",
        "len(train_data[1])"
      ]
    },
    {
      "cell_type": "code",
      "execution_count": null,
      "metadata": {
        "id": "pUfB0Rwiv6YM"
      },
      "outputs": [],
      "source": [
        "train_data=pad_sequences(train_data,MAXLEN)\n",
        "test_data=pad_sequences(test_data,MAXLEN)"
      ]
    },
    {
      "cell_type": "code",
      "execution_count": null,
      "metadata": {
        "id": "iFY9VentykEx"
      },
      "outputs": [],
      "source": [
        "len(train_data[1])"
      ]
    },
    {
      "cell_type": "code",
      "execution_count": null,
      "metadata": {
        "id": "O5kaOeMUysDG"
      },
      "outputs": [],
      "source": [
        "len(train_data[5])\n",
        "#All review is length of 250 now."
      ]
    },
    {
      "cell_type": "markdown",
      "metadata": {
        "id": "0_CLJ1Ns07sl"
      },
      "source": [
        "###Creating Model"
      ]
    },
    {
      "cell_type": "code",
      "execution_count": null,
      "metadata": {
        "id": "QwMtFjEV1BLW"
      },
      "outputs": [],
      "source": [
        "model=tf.keras.Sequential([\n",
        "    tf.keras.layers.Embedding(VOCAB_SIZE,32),\n",
        "    tf.keras.layers.LSTM(32),\n",
        "    tf.keras.layers.Dense(1,activation='sigmoid')\n",
        "])"
      ]
    },
    {
      "cell_type": "code",
      "execution_count": null,
      "metadata": {
        "id": "nikke7Ql5IyS"
      },
      "outputs": [],
      "source": [
        "model.summary()"
      ]
    },
    {
      "cell_type": "code",
      "execution_count": null,
      "metadata": {
        "colab": {
          "background_save": true,
          "base_uri": "https://localhost:8080/"
        },
        "id": "aOqIY9hG5T7h",
        "outputId": "a171ccfb-f51a-46b7-8c6f-43523d84a46a"
      },
      "outputs": [
        {
          "name": "stdout",
          "output_type": "stream",
          "text": [
            "Epoch 1/10\n",
            "625/625 [==============================] - 80s 124ms/step - loss: 0.4505 - accuracy: 0.7818 - val_loss: 0.3035 - val_accuracy: 0.8776\n",
            "Epoch 2/10\n",
            "625/625 [==============================] - 69s 110ms/step - loss: 0.2600 - accuracy: 0.8997 - val_loss: 0.4284 - val_accuracy: 0.8516\n",
            "Epoch 3/10\n",
            "625/625 [==============================] - 69s 110ms/step - loss: 0.2011 - accuracy: 0.9241 - val_loss: 0.2823 - val_accuracy: 0.8882\n",
            "Epoch 4/10\n",
            "625/625 [==============================] - 73s 117ms/step - loss: 0.1583 - accuracy: 0.9433 - val_loss: 0.3584 - val_accuracy: 0.8748\n",
            "Epoch 5/10\n",
            "625/625 [==============================] - 71s 114ms/step - loss: 0.1315 - accuracy: 0.9559 - val_loss: 0.3885 - val_accuracy: 0.8750\n",
            "Epoch 6/10\n",
            "625/625 [==============================] - 71s 114ms/step - loss: 0.1105 - accuracy: 0.9628 - val_loss: 0.3314 - val_accuracy: 0.8758\n",
            "Epoch 7/10\n",
            "625/625 [==============================] - 70s 113ms/step - loss: 0.0910 - accuracy: 0.9709 - val_loss: 0.5372 - val_accuracy: 0.8180\n",
            "Epoch 8/10\n",
            "625/625 [==============================] - 71s 113ms/step - loss: 0.0756 - accuracy: 0.9747 - val_loss: 0.3466 - val_accuracy: 0.8716\n",
            "Epoch 9/10\n",
            "625/625 [==============================] - 69s 111ms/step - loss: 0.0655 - accuracy: 0.9801 - val_loss: 0.3858 - val_accuracy: 0.8760\n",
            "Epoch 10/10\n",
            "625/625 [==============================] - 71s 113ms/step - loss: 0.0560 - accuracy: 0.9823 - val_loss: 0.4023 - val_accuracy: 0.8802\n"
          ]
        }
      ],
      "source": [
        "model.compile(loss=\"binary_crossentropy\",optimizer=\"rmsprop\",metrics=['accuracy'])\n",
        "history=model.fit(train_data,train_labels,epochs=10,validation_split=0.2)"
      ]
    },
    {
      "cell_type": "code",
      "execution_count": null,
      "metadata": {
        "colab": {
          "background_save": true
        },
        "id": "bOIVguaq8kND"
      },
      "outputs": [],
      "source": [
        "model.save(\"lstm.h5\") #create HDF5 file \"lstm.h5\"  to save LSTM model"
      ]
    },
    {
      "cell_type": "code",
      "execution_count": null,
      "metadata": {
        "colab": {
          "background_save": true
        },
        "id": "PVgt8-6E8sE5"
      },
      "outputs": [],
      "source": [
        "new_model = tf.keras.models.load_model('lstm.h5')\n",
        "#Code loads a trained Keras model from a file named 'lstm.h5'"
      ]
    },
    {
      "cell_type": "markdown",
      "metadata": {
        "id": "FnFMleRM_GqQ"
      },
      "source": [
        "The loaded model is then assigned to the variable new_model which can be used to make predictions or further train the model if necessary."
      ]
    },
    {
      "cell_type": "code",
      "execution_count": null,
      "metadata": {
        "colab": {
          "background_save": true
        },
        "id": "bkR6h9_G8yJ-",
        "outputId": "b27fd60d-410d-4c70-c1c6-6be019fe4d91"
      },
      "outputs": [
        {
          "name": "stdout",
          "output_type": "stream",
          "text": [
            "782/782 [==============================] - 24s 30ms/step - loss: 0.4557 - accuracy: 0.8638\n",
            "[0.4557284712791443, 0.8637999892234802]\n"
          ]
        }
      ],
      "source": [
        "results=new_model.evaluate(test_data,test_labels)\n",
        "print(results)"
      ]
    },
    {
      "cell_type": "code",
      "execution_count": null,
      "metadata": {
        "colab": {
          "background_save": true
        },
        "id": "k4vENiYX82Mo",
        "outputId": "baeec4a7-3e21-4167-fb99-ec0567502f6d"
      },
      "outputs": [
        {
          "name": "stdout",
          "output_type": "stream",
          "text": [
            "782/782 [==============================] - 23s 29ms/step - loss: 0.4557 - accuracy: 0.8638\n",
            "[0.4557284712791443, 0.8637999892234802]\n"
          ]
        }
      ],
      "source": [
        "results=model.evaluate(test_data,test_labels)\n",
        "print(results)"
      ]
    },
    {
      "cell_type": "markdown",
      "metadata": {
        "id": "TxElMVQBANeN"
      },
      "source": [
        "###Making Predictions"
      ]
    },
    {
      "cell_type": "code",
      "execution_count": null,
      "metadata": {
        "colab": {
          "background_save": true
        },
        "id": "VsHWb1vuAreo"
      },
      "outputs": [],
      "source": [
        "word_index=imdb.get_word_index()\n",
        "#code retrieves the word index of the IMDB movie reviews dataset using a method called get_word_index() which is available in the IMDB library."
      ]
    },
    {
      "cell_type": "code",
      "execution_count": null,
      "metadata": {
        "colab": {
          "background_save": true
        },
        "id": "zZoEoxMUAu94",
        "outputId": "047502ba-ec47-4249-e790-0b49f63f7a9a"
      },
      "outputs": [
        {
          "name": "stdout",
          "output_type": "stream",
          "text": [
            "fawn : 34701\n",
            "tsukino : 52006\n",
            "nunnery : 52007\n",
            "sonja : 16816\n",
            "vani : 63951\n",
            "woods : 1408\n",
            "spiders : 16115\n",
            "hanging : 2345\n",
            "woody : 2289\n",
            "trawling : 52008\n"
          ]
        }
      ],
      "source": [
        "#Example to show first ten word in IMDB library\n",
        "for i in range(10):\n",
        "    print(list(word_index.keys())[i],':',list(word_index.values())[i])"
      ]
    },
    {
      "cell_type": "code",
      "execution_count": null,
      "metadata": {
        "colab": {
          "background_save": true
        },
        "id": "cmG4DsukBkSt"
      },
      "outputs": [],
      "source": [
        "def encode_text(text):\n",
        "    tokens=keras.preprocessing.text.text_to_word_sequence(text)\n",
        "    tokens=[word_index[word] if word in word_index else 0 for word in tokens]\n",
        "    return pad_sequences([tokens],MAXLEN)[0]"
      ]
    },
    {
      "cell_type": "code",
      "execution_count": null,
      "metadata": {
        "colab": {
          "background_save": true
        },
        "id": "UT1XfnFcBmwU",
        "outputId": "8b096108-93c0-4081-80da-94ff67349583"
      },
      "outputs": [
        {
          "name": "stdout",
          "output_type": "stream",
          "text": [
            "[  0   0   0   0   0   0   0   0   0   0   0   0   0   0   0   0   0   0\n",
            "   0   0   0   0   0   0   0   0   0   0   0   0   0   0   0   0   0   0\n",
            "   0   0   0   0   0   0   0   0   0   0   0   0   0   0   0   0   0   0\n",
            "   0   0   0   0   0   0   0   0   0   0   0   0   0   0   0   0   0   0\n",
            "   0   0   0   0   0   0   0   0   0   0   0   0   0   0   0   0   0   0\n",
            "   0   0   0   0   0   0   0   0   0   0   0   0   0   0   0   0   0   0\n",
            "   0   0   0   0   0   0   0   0   0   0   0   0   0   0   0   0   0   0\n",
            "   0   0   0   0   0   0   0   0   0   0   0   0   0   0   0   0   0   0\n",
            "   0   0   0   0   0   0   0   0   0   0   0   0   0   0   0   0   0   0\n",
            "   0   0   0   0   0   0   0   0   0   0   0   0   0   0   0   0   0   0\n",
            "   0   0   0   0   0   0   0   0   0   0   0   0   0   0   0   0   0   0\n",
            "   0   0   0   0   0   0   0   0   0   0   0   0   0   0   0   0   0   0\n",
            "   0   0   0   0   0   0   0   0   0   0   0   0   0   0   0   0   0   0\n",
            "   0   0   0   0   0   0  12  17  13 477  10  25   5 103   9 171]\n"
          ]
        }
      ],
      "source": [
        "text=\"that movie was amazing, i have to watch it again\"\n",
        "encoded=encode_text(text)\n",
        "print(encoded)"
      ]
    },
    {
      "cell_type": "code",
      "execution_count": null,
      "metadata": {
        "colab": {
          "background_save": true
        },
        "id": "QcCgCKdSB02G",
        "outputId": "c85dad0d-4213-4d69-c2d9-9184fe8118a8"
      },
      "outputs": [
        {
          "name": "stdout",
          "output_type": "stream",
          "text": [
            "that movie was amazing i have to watch it again\n"
          ]
        }
      ],
      "source": [
        "reverse_word_index={value:key for (key,value) in word_index.items()}\n",
        "\n",
        "def decode_integers(integers):\n",
        "    PAD=0\n",
        "    text=\"\"\n",
        "    for num in integers:\n",
        "        if num!=PAD:\n",
        "            text+=reverse_word_index[num] +\" \"\n",
        "\n",
        "    return text[:-1]\n",
        "\n",
        "print(decode_integers(encoded))"
      ]
    },
    {
      "cell_type": "code",
      "execution_count": null,
      "metadata": {
        "colab": {
          "background_save": true
        },
        "id": "J_k8nCgWB7dJ"
      },
      "outputs": [],
      "source": [
        "def predict(text):\n",
        "    encoded_text=encode_text(text)\n",
        "    pred=encoded_text.reshape(1,250) #converting vector to 2d\n",
        "    result=model.predict(pred)\n",
        "    print(result[0])"
      ]
    },
    {
      "cell_type": "code",
      "execution_count": null,
      "metadata": {
        "colab": {
          "background_save": true
        },
        "id": "xO4_PAN0B9Ts",
        "outputId": "e305dcf6-2d39-495c-e401-6ebdf9af5897"
      },
      "outputs": [
        {
          "name": "stdout",
          "output_type": "stream",
          "text": [
            "1/1 [==============================] - 0s 458ms/step\n",
            "[0.99264354]\n",
            "1/1 [==============================] - 0s 33ms/step\n",
            "[0.77117985]\n"
          ]
        }
      ],
      "source": [
        "positive_review=\"That was a good movie, i will definitely watch it again\"\n",
        "predict(positive_review)\n",
        "\n",
        "negative_review=\"Don't waste your time watching this movie, so disappointing\"\n",
        "predict(negative_review)"
      ]
    }
  ],
  "metadata": {
    "colab": {
      "provenance": []
    },
    "kernelspec": {
      "display_name": "Python 3",
      "name": "python3"
    },
    "language_info": {
      "name": "python"
    }
  },
  "nbformat": 4,
  "nbformat_minor": 0
}